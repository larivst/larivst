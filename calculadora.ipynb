{
  "nbformat": 4,
  "nbformat_minor": 0,
  "metadata": {
    "colab": {
      "provenance": [],
      "authorship_tag": "ABX9TyNM/V6kc+rrmLBqAL2sbDTf",
      "include_colab_link": true
    },
    "kernelspec": {
      "name": "python3",
      "display_name": "Python 3"
    },
    "language_info": {
      "name": "python"
    }
  },
  "cells": [
    {
      "cell_type": "markdown",
      "metadata": {
        "id": "view-in-github",
        "colab_type": "text"
      },
      "source": [
        "<a href=\"https://colab.research.google.com/github/larivst/larivst/blob/main/calculadora.ipynb\" target=\"_parent\"><img src=\"https://colab.research.google.com/assets/colab-badge.svg\" alt=\"Open In Colab\"/></a>"
      ]
    },
    {
      "cell_type": "code",
      "execution_count": 1,
      "metadata": {
        "colab": {
          "base_uri": "https://localhost:8080/"
        },
        "id": "gS95Hmol2Y1l",
        "outputId": "8746731f-e650-4f13-ce98-7c2644518805"
      },
      "outputs": [
        {
          "output_type": "stream",
          "name": "stdout",
          "text": [
            "Digite o primeiro número: 7\n",
            "Digite a operação (+, -, *, /): +\n",
            "Digite o segundo número: 7\n",
            "Resultado: 14.0\n"
          ]
        }
      ],
      "source": [
        "while True:\n",
        "    try:\n",
        "\n",
        "        num1 = float(input(\"Digite o primeiro número: \"))\n",
        "\n",
        "\n",
        "        operacao = input(\"Digite a operação (+, -, *, /): \")\n",
        "\n",
        "\n",
        "        if operacao not in ['+', '-', '*', '/']:\n",
        "            print(\"Operação inválida. Use apenas +, -, * ou /.\")\n",
        "            continue\n",
        "\n",
        "\n",
        "        num2 = float(input(\"Digite o segundo número: \"))\n",
        "\n",
        "\n",
        "        if operacao == '/' and num2 == 0:\n",
        "            print(\"Erro: não é possível dividir por zero.\")\n",
        "            continue\n",
        "\n",
        "        if operacao == '+':\n",
        "            resultado = num1 + num2\n",
        "        elif operacao == '-':\n",
        "            resultado = num1 - num2\n",
        "        elif operacao == '*':\n",
        "            resultado = num1 * num2\n",
        "        elif operacao == '/':\n",
        "            resultado = num1 / num2\n",
        "\n",
        "        print(\"Resultado:\", resultado)\n",
        "        break\n",
        "\n",
        "    except ValueError:\n",
        "        print(\"Erro: você deve digitar um número válido.\\n\")"
      ]
    }
  ]
}