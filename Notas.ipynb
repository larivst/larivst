{
  "nbformat": 4,
  "nbformat_minor": 0,
  "metadata": {
    "colab": {
      "provenance": [],
      "authorship_tag": "ABX9TyMtct9nlck2DUw/aSZmiP8y",
      "include_colab_link": true
    },
    "kernelspec": {
      "name": "python3",
      "display_name": "Python 3"
    },
    "language_info": {
      "name": "python"
    }
  },
  "cells": [
    {
      "cell_type": "markdown",
      "metadata": {
        "id": "view-in-github",
        "colab_type": "text"
      },
      "source": [
        "<a href=\"https://colab.research.google.com/github/larivst/larivst/blob/main/Notas.ipynb\" target=\"_parent\"><img src=\"https://colab.research.google.com/assets/colab-badge.svg\" alt=\"Open In Colab\"/></a>"
      ]
    },
    {
      "cell_type": "code",
      "execution_count": null,
      "metadata": {
        "id": "BG7tJBq2IYDy"
      },
      "outputs": [],
      "source": [
        "notas = []\n",
        "\n",
        "while True:\n",
        "    entrada = input(\"Digite uma nota (ou 'fim' para encerrar): \")\n",
        "\n",
        "    if entrada.lower() == 'fim':\n",
        "        break\n",
        "\n",
        "    try:\n",
        "        nota = float(entrada)\n",
        "        if 0 <= nota <= 10:\n",
        "            notas.append(nota)\n",
        "        else:\n",
        "            print(\"Nota inválida. Digite um valor entre 0 e 10.\")\n",
        "    except ValueError:\n",
        "        print(\"Entrada inválida. Digite um número ou 'fim'.\")\n",
        "\n",
        "if notas:\n",
        "    media = sum(notas) / len(notas)\n",
        "    print(f\"Média da turma: {media:.2f}\")\n",
        "else:\n",
        "    print(\"Nenhuma nota válida foi registrada.\")"
      ]
    }
  ]
}